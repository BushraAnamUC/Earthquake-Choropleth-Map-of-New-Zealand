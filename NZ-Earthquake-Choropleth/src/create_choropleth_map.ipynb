{
 "cells": [
  {
   "cell_type": "markdown",
   "id": "9bdb079d-3538-4421-8ece-1faf8b86b10d",
   "metadata": {},
   "source": [
    "## 1- Load GeoJSON and Shapefile Data:"
   ]
  },
  {
   "cell_type": "code",
   "execution_count": null,
   "id": "5d8a0c43-0004-44f1-9167-b96afd9c732a",
   "metadata": {},
   "outputs": [],
   "source": [
    "import geopandas as gpd\n",
    "import folium\n",
    "\n",
    "# Load the GeoJSON file\n",
    "geojson_path = '/path_to_file/earthquake.geojson'\n",
    "gdf = gpd.read_file(geojson_path)\n",
    "\n",
    "# Load the shapefile\n",
    "shapefile_path = '/path_to_file/NZ_Shapefiles/territorial-authority-2023-generalised.shp'\n",
    "regions_gdf = gpd.read_file(shapefile_path)\n"
   ]
  },
  {
   "cell_type": "markdown",
   "id": "b0545249-b3bf-4a3d-81ca-2bebcfe9b3ef",
   "metadata": {},
   "source": [
    "## 2- Reproject Data:\n",
    "Ensure both datasets use the same CRS (Coordinate Reference System):"
   ]
  },
  {
   "cell_type": "code",
   "execution_count": null,
   "id": "f394ebac-8d1c-4ef8-b27d-a5ffeec0cf37",
   "metadata": {},
   "outputs": [],
   "source": [
    "# Check and reproject GeoJSON CRS to match shapefile\n",
    "if gdf.crs != \"EPSG:4326\":\n",
    "    gdf = gdf.to_crs(\"EPSG:4326\")\n",
    "# Reproject shapefile to EPSG:4326\n",
    "if regions_gdf.crs != \"EPSG:4326\":\n",
    "    regions_gdf = regions_gdf.to_crs(\"EPSG:4326\")\n"
   ]
  },
  {
   "cell_type": "markdown",
   "id": "0ee31cfa-a173-45a3-bde6-7c47e3f40e27",
   "metadata": {},
   "source": [
    "## 3- Spatial Join and Aggregation:\n",
    "Assign earthquakes to regions and count occurrences:"
   ]
  },
  {
   "cell_type": "code",
   "execution_count": null,
   "id": "aa5a7c6d-7351-438a-a75d-952ae312fc10",
   "metadata": {},
   "outputs": [],
   "source": [
    "# Perform spatial join: Assign earthquakes to regions\n",
    "joined_gdf = gpd.sjoin(gdf, regions_gdf, how=\"inner\", predicate=\"within\")\n",
    "\n",
    "# Aggregate earthquake counts by region\n",
    "earthquake_counts = joined_gdf.groupby('TA2023_V1_').size().reset_index(name='earthquake_count')\n"
   ]
  },
  {
   "cell_type": "markdown",
   "id": "39d0b297-8e69-4e60-b29b-f7ec5d8fd15c",
   "metadata": {},
   "source": [
    "## 4- Merge and Clean Data:\n",
    "Add earthquake counts to the shapefile data:"
   ]
  },
  {
   "cell_type": "code",
   "execution_count": null,
   "id": "81163a47-a25d-41b8-b75e-03fb48b352ea",
   "metadata": {},
   "outputs": [],
   "source": [
    "# Merge the counts back with the shapefile GeoDataFrame\n",
    "regions_gdf = regions_gdf.merge(earthquake_counts, on=\"TA2023_V1_\", how=\"left\")\n",
    "\n",
    "\n",
    "# Remove rows where TA2023_V1_ is 999\n",
    "regions_gdf = regions_gdf[regions_gdf[\"TA2023_V1_\"] != \"999\"]\n",
    "\n",
    "# Fill NaN values with 0 for regions without earthquakes\n",
    "regions_gdf[\"earthquake_count\"] = regions_gdf[\"earthquake_count\"].fillna(0)\n",
    "\n",
    "# Save cleaned GeoJSON for visualization\n",
    "output_geojson_path = '/path_to_save_file/joined_data_cleaned.geojson'\n",
    "regions_gdf.to_file(output_geojson_path, driver=\"GeoJSON\")\n",
    "\n",
    "# Load the cleaned GeoJSON for mapping\n",
    "gdf1 = gpd.read_file(output_geojson_path)"
   ]
  },
  {
   "cell_type": "markdown",
   "id": "c9fcee70-4fce-495e-817d-f018c839a77e",
   "metadata": {},
   "source": [
    "## 5- Create Choropleth Map:\n",
    "Generate an interactive map with Folium:"
   ]
  },
  {
   "cell_type": "code",
   "execution_count": null,
   "id": "d3f01a7a-24f9-4ed1-ab21-cf00c4f02033",
   "metadata": {},
   "outputs": [],
   "source": [
    "# Initialize the map centered around New Zealand\n",
    "m = folium.Map(location=[-40.9006, 174.8860], zoom_start=5)\n",
    "\n",
    "# Add the Choropleth layer\n",
    "folium.Choropleth(\n",
    "    geo_data=output_geojson_path,\n",
    "    name='choropleth',\n",
    "    data=gdf1,\n",
    "    columns=['TA2023_V1_', 'earthquake_count'],  # Unique region identifier\n",
    "    key_on='feature.properties.TA2023_V1_',\n",
    "    fill_color='Reds',\n",
    "    fill_opacity=0.7,\n",
    "    line_opacity=0.2,\n",
    "    legend_name='Earthquake Count'\n",
    ").add_to(m)\n",
    "\n",
    "# Add a layer control\n",
    "folium.LayerControl().add_to(m)\n",
    "\n",
    "# Save the map to an HTML file\n",
    "map_output_path = \"earthquake_choropleth_map.html\"\n",
    "m.save(map_output_path)\n",
    "print(f\"Choropleth map saved as {map_output_path}\")\n",
    " "
   ]
  }
 ],
 "metadata": {
  "kernelspec": {
   "display_name": "Python 3 (ipykernel)",
   "language": "python",
   "name": "python3"
  },
  "language_info": {
   "codemirror_mode": {
    "name": "ipython",
    "version": 3
   },
   "file_extension": ".py",
   "mimetype": "text/x-python",
   "name": "python",
   "nbconvert_exporter": "python",
   "pygments_lexer": "ipython3",
   "version": "3.11.2"
  }
 },
 "nbformat": 4,
 "nbformat_minor": 5
}
